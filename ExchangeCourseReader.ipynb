{
  "nbformat": 4,
  "nbformat_minor": 0,
  "metadata": {
    "colab": {
      "name": "ExchangeCourseReader.ipynb",
      "provenance": [],
      "collapsed_sections": []
    },
    "kernelspec": {
      "name": "python3",
      "display_name": "Python 3"
    }
  },
  "cells": [
    {
      "cell_type": "code",
      "metadata": {
        "id": "WzYfMemudc3F"
      },
      "source": [
        "###Part 1 Inspect File "
      ],
      "execution_count": null,
      "outputs": []
    },
    {
      "cell_type": "code",
      "metadata": {
        "id": "yi8WWdbFjlxi"
      },
      "source": [
        "\r\n"
      ],
      "execution_count": null,
      "outputs": []
    },
    {
      "cell_type": "code",
      "metadata": {
        "id": "zYr8Fj_tOrjC"
      },
      "source": [
        ""
      ],
      "execution_count": null,
      "outputs": []
    },
    {
      "cell_type": "code",
      "metadata": {
        "id": "E9ZBtJr3-hOn",
        "colab": {
          "base_uri": "https://localhost:8080/"
        },
        "outputId": "86b75784-6648-4362-9a35-b5ce0c9a6add"
      },
      "source": [
        "import PyPDF2\r\n",
        "import textract\r\n",
        "\r\n",
        "\r\n",
        "# file_name = input(\"Name of the file. Type here: \")\r\n",
        "file_name = \"Test_example2.pdf\"\r\n",
        "\r\n",
        "# first of all open the pdf file\r\n",
        "pdfFile_object = open(file_name, \"rb\")\r\n",
        "print(\"The document to be read is: \" + str(file_name))\r\n",
        "\r\n",
        "# and making it readable by python\r\n",
        "reader = PyPDF2.PdfFileReader(pdfFile_object)\r\n",
        "\r\n",
        "# to create the loop and string we need some preparation\r\n",
        "num_pages = reader.numPages\r\n",
        "print(\"The number of pages is: \" + str(num_pages))\r\n",
        "count_pages = 0\r\n",
        "text = \"\"\r\n",
        "\r\n",
        "# the loop reads through all the pages and return the text in a string\r\n",
        "while count_pages < num_pages:\r\n",
        "    page_to_read = reader.getPage(count_pages)\r\n",
        "    count_pages += 1\r\n",
        "    text += page_to_read.extractText()\r\n",
        "\r\n",
        "pdfFile_object.close()\r\n",
        "\r\n",
        "if text != \"\":\r\n",
        "    text = text\r\n",
        "else:\r\n",
        "    print(\"I have found no words\")\r\n",
        "    # This doesn't work (see next line)\r\n",
        "    # text = textract.process(, method='tesseract', language='eng')\r\n",
        "\r\n",
        "characters_to_remove = [\",\", \".\", \"\\n\", \"\\n\\n\", \"\\t\", \"  \", \"   \", \"(\", \")\"]\r\n",
        "for character in characters_to_remove:\r\n",
        "    text = text.replace(character, \" \")\r\n",
        "\r\n",
        "print(text)"
      ],
      "execution_count": null,
      "outputs": [
        {
          "output_type": "stream",
          "text": [
            "The document to be read is: Test_example2.pdf\n",
            "The number of pages is: 4\n",
            "Erfahrungsbericht Universidad de San Andrés  Herbstsemester 2017  FS in Argentinien  07 August 15 Dezember  Bachelor BWL  Die Universidad de San Andrés befindet sich im Norden von Buenos Aires    Bezirk Victoria   ca 1 - 1 5 Stunden außerhalb vom Stadtzentrum  Recoleta/Palermo   Sie ist in dieser Zeit sehr einfach mit dem Zug  Mitre  von Retiro oder Belgrano C aus zu erreichen  Daneben gibt es einen Universitäts - Bus der jeden Tag um 7 30 von Retiro losfährt und 140 Pesos  6 5  kostet  Die Universität überzeugt einerseits mit ihrem Erscheinen da sie  ein schönes grünes Fleckchen und ein starker Kontrast im sonst lauten und verkehrsreichen Buenos Aires ist  Andererseits überzeugt sie mit ihrem hohen akademischen Niveau  das in ganz Buenos  Aires bekannt ist  und auch bei Internships  pasantías   hilft falls sich jemand entscheidet noch 2 Monate länger zu bleiben      Das erste Bild zeigt das Stadtzentrum mit Palermo und Recoleta  und d en Standort der Universidad de San Andrés  das zweite Bild den Plaza de Mayo mit de r  Casa Rosada und das dritte Bild den schönen grünen Campus der Universidad de San Andrés  Neben dem Orientierungsprogramm welches am Donnerstag und Freitag vor der ersten Uni - Woche stattfindet und verpflichtend ist gibt es ein Buddy - System  werden den Studenten zugeteilt  Meiner Meinung nach bringt das Programm aus  ak ademischer Sicht nichts da es sehr einfach ist sich an der Univeristät zurechtzufinden  A ber es ist eine tolle Möglichkeit neue Leute  kenne n zulernen und schnell Freunde zu finden  Viel interessanter sind die Events und Möglichkeiten zur Besichtigung der Stadt die die Universität und das Buddy - System bieten  Fast jedes Woche nende findet ein Event statt wie beispielsweise die Besichtigung eines Museums eines Parks oder einer Messe Es ist meiner Meinung nach sehr lohnenswert an solchen Events teilzunehme n Akademisches  Wie bereits beschrieben ist das akademische Niveau  für Argentinien  sehr gut  jedoch nicht vergleichbar mit der HSG  Für mein Empfinden gibt es zu wenig Credits für die Kurse da diese entweder 64 oder 96 Gesamtstunden aufweisen Meiner Meinung nach stimmt das System da nicht überein da ich für 4 Kurse was einem vollen Semester für einen Studenten an der UdeSA entspricht lediglich 22 ECTS bekomme  Meine Kurse waren:  Política y Administración Financiera   Finance HSG 7 ECTS   Diesen Kurs  gibt es in 2 Ausführungen Santiago Barraza war mein Dozent und ist definitiv die bessere Wahl da er sich mehr um seine Studenten kümmert  Der Kurs ist bei ihm zwar inhaltlich nicht so anspruchsvoll wie sein Gegenüber aber dennoch lernt man meiner Mein ung nach bei ihm mehr  da er auch auf Programmierung und sehr gute Excel - Kenntnisse Wert legt  Excel und Stata  als Beispiel für eine Pr ogrammier sprache sind vor allem in Finance sehr wichtige Skills die für Bewerbungen und vor allem das Berufsleben hilfreich sein können Estrategia de Empresas  Strategisches Management HSG 5 ECTS momentan   Dieser Kurs wird von Diego Finchelstein unterrichtet  Ein ziemlich gelassener  Typ auch wenn er auf den ersten Blick nicht so sondern sehr streng wirkt  Die Benotung ist fair und nachvollziehbar  es gibt aber Gru ppenarbeiten die an dieser Universität oft nicht so toll benotet werden  Dies ist aber teilweise der Arbeitsmoral der relaxten Südamerikaner z uzuschreiben  Aus diesem Grund sollte man sich überlegen  ob man K urse mit Gruppenarbeiten wählt  Meines Eindrucks nach ist dieser Kurs aber der beliebteste u nter den Austauschstudenten da ca 15 weitere diesen Kurs gewählt haben  Teoría y Práctica del desarollo de proyectos culturales   Reko  HSG 5 ECTS   Dieser Kurs war am Anfang ein unvermeid bares  Übel  für mich und auch sehr langweilig  Als ich aber auf das erste Examen gelernt habe habe ich zum ersten Mal den Inhalt erarbeitet und durfte herausfinden dass die Dinge eigentlich sehr spannend waren  Es ging hauptsächlich um die Geschichte von Buenos Aires und deren kulturelle Entwicklung und wie diese Kultur heutzutage in Projekten konserviert wird So ist zum Beispiel der Parque de la Memoria auf der den Desaparecidos  gewidmet Die  dort zu bestaunen d en Werke  sind spiegeln die Verbrechen des 20 Jahrhunderts wirklich atemberaubend wider  Nachdem wir  die Theorie n  gelernt habe n  habe n wir dann im Kurs verschiedene Werke b esichtigt  Historia de las relaciones internacionales   Reko  HSG 5 ECTS   D iese Vorlesung en sind  relativ langweilig  D er Dozent hat aber nicht wirklich auf Anwesenheit gesetzt sie aber dennoch kontrolliert  Ganz im Gegensatz zur Vorlesung ist der Inhalt aber äußerst spannend  Man vertieft die Welt g eschichte der letzten drei -  bis vier hundert Jahre auf dem  Hintergrund der internationalen Beziehungen  Die Prüfungen sind sehr a rbeitsa ufwändig  da 2x 15 Seiten zu jeweils vier komplett verschiedenen und sehr detaillierten Fragen  geschrieben werden müssen Ob Englisch hier möglich wäre weiß  ich nicht  Ich habe in diesem Kurs aber mit Sicherheit am meisten gelernt und mein geschriebenes Spanisch sehr verbessert Alles in Allem lässt sich sagen dass die Kurse teilweise sehr aufwendig  sind  aber man definitiv sehr viel  lernen kann  Es empfiehlt sich wahrscheinlich nicht jeden Tag an der Universität zu sein sprich seine Kurse auf 3 oder 4 Tage zu komprimieren  da strenge Anwesenheitspflicht herrscht Weiteres  Die Verantwortlichen der Universität ha ben  sich bereits sehr früh mit mir in K ontakt gesetzt  Sie verlangen ein s pezielles Bewerbungsverfahren welches unter anderem ein zwei - Seitiges Bewerbungsschreiben beinhaltet  um das Spanisch - Niveau zu überprüfen  Ein B2 - Niveau wird vorausgesetzt dennoch gab es aber einige die nicht wirklich gut spanisch sprachen und ihr Zertifikat wahrscheinlich eher aus dem  Internet haben  Man sollte sich deshalb keine Sorge machen auch wenn das Spanisch noch nicht so gut ist  Was dafür sehr gemütlich ist ist die Einreise Man reist einfach als Tourist ein und innerhalb des 1 Monats erhält man dann mit Hilfe der Verantwortlichen für Austauschstudenten das Studentenv isum Ich habe den ersten Monat b ei einer Host - Family verbrac ht  was mir sehr gut gefiel da es eine wohlhabendere Familie im schönen Recoleta war  Die Familie bzw das Zimmer werden von der Universität ausgewählt und davor inspiziert  Das tägliche Abendessen ist hier übrigens inkludiert  Der Preis ist 1000 USD wobei die Familie jedoch nur ca 500 USD erhält  Nach einem Monat w ar es für mich aber auch genug und ich bin nach Palermo gezogen  Dort konnte ich für einen üblichen Schweizer Preis eine schöne Penthouse - Einzelwohnung im 10 Stock ergattern wo ich dann bis zum Ende meines Aufenthalts geblieben bin  Palermo ist definitiv die bessere Wahl  da die Distanz zur Uni gleich wie in Recoleta ist man aber direkt im Party - Geschehen ist  Auch On - Campus - Housing ist möglich aber nicht empfehle nswert da man sich doch mehr als eine Stunde vom Stadt - Zentrum entfernt befindet Mein monatliches Budget musste ich von der Schweiz zu Buenos Aires noch einmal anheben  was hauptsächlich an meinen vielen Reisen lag  Die Stadt selber ist für lokale Marke n so teuer wie Deutschland oder Österreich  für importierte Marken jedoch teurer als die Schweiz  Man gewöhnt sich also besser daran einheimische Marken zu kaufen  Auch das Mensa - Essen beispielsweise befindet sich auf HSG - Niveau  Die San Andrés ist halt doch Argentiniens teuerste P rivatuni   wahrscheinlich auch  in Lateina merika unter den Top 3   was man in vielen Bereichen merkt  Ihr werdet es sehen  Zusammenfassung  M ein Auslandssemester  war  ein wunderschönes Erlebnis  Buenos Aires ist meiner Meinung nach die schönste Metropole  Südamerikas  was wahrscheinlich auch daran liegt dass sie europäischer ist als alle anderen Städte dort  Sie überzeugt mit ihrer Kultur mit ihrem Social - Life  und ihren Möglichkeiten in jeglicher  Hinsicht  Ich kann einen Austausch hier nur weiterempfehlen  \n"
          ],
          "name": "stdout"
        }
      ]
    },
    {
      "cell_type": "code",
      "metadata": {
        "id": "LXoLrP-Mfc3k"
      },
      "source": [
        ""
      ],
      "execution_count": null,
      "outputs": []
    },
    {
      "cell_type": "code",
      "metadata": {
        "id": "tbDTueltdhRD"
      },
      "source": [
        "####Part 2 Keyword definitions"
      ],
      "execution_count": null,
      "outputs": []
    },
    {
      "cell_type": "code",
      "metadata": {
        "id": "b6XLp0osfFMc"
      },
      "source": [
        "####THe following lists are to be used for Keyword searching: \r\n",
        "# de denotes the \"Deutsch\"- Track\r\n",
        "# en denotes the \"English\" Track\r\n",
        "# den denotes Tracks that are in both languages\r\n",
        "##General lists to find info on course structures:\r\n",
        "general_de = [\"pflichtveranstaltung\", \"pflichtfach\", \"pflichtwahl\", \"wahlbereich\", \"kontextstudium\", \"fokusbereich\", \"sprachen\", \"skills\", \"reko\"]\r\n",
        "\r\n",
        "general_en = [\"Core studies\", \"Compulsory subjects\", \"Contextual Studies\", \"Languages\", \"Skills \"]\r\n",
        "\r\n",
        "###Alternative Search Keywords: \r\n",
        "alt_list = [\"Kurse\", \"Study\", \"Academics\", \"ECTS\", \"Kursname\"]"
      ],
      "execution_count": null,
      "outputs": []
    },
    {
      "cell_type": "code",
      "metadata": {
        "id": "OHtL9diYfFQi"
      },
      "source": [
        "###Lists for the Business Students (According to the new Study Order: https://universitaetstgallen.sharepoint.com/sites/BachelorDE/SitePages/BWL-Curriculum.aspx) \r\n",
        "\r\n",
        "bbwl_de = [\"mikroökonomik\", \"makroökonomik\", \"statistik\", \"leadership& human resource management\", \"strategisches management\", \"management\" \"empirische sozialforschung\", \"marketing\"\\\r\n",
        "           \"corporate finance\", \"finance\", \"accounting\", \"controlling\", \"auditing\", \"operations-management\", \"wirtschafts& und steuerrecht\", \"informatik für wirtschaftswissenschaftler\"\\\r\n",
        "           \"methoden der informatik für wirtschaftswissenschaftler\"]\r\n",
        "\r\n",
        "bbwl_en = [\"Business and Fiscal Law\", \"Introduction to Operations Management\", \"Accounting, Controlling, Auditing\", \"Corporate Finance\",\\\r\n",
        "           \"Methods of Informatics for Business Studies\", \"Fundamentals of Informatics for Business Studies\", \"Microeconomics\", \"Macroeconomics\", \"Statistics\",\\\r\n",
        "           \"Leadership& Human Resource Management\", \"Strategic Management\", \"Social Science Research\", \"Marketing\"]\r\n",
        "\r\n"
      ],
      "execution_count": null,
      "outputs": []
    },
    {
      "cell_type": "code",
      "metadata": {
        "id": "zTi01k-YfFS0"
      },
      "source": [
        "###List for the International Affairs Students : https://universitaetstgallen.sharepoint.com/sites/BachelorDE/SitePages/BIA-Curriculum-und-Reform-O20.aspx\r\n",
        "bia_den = [\"Quantitative Methods\", \"Quantitative Methoden\", \"Mikroökonomik\", \"Microeconomics\", \"Comparative Politics\", \"Vergleichende Politikwissenschaft\", \"Politische Theorie\"\\\r\n",
        "           \"Public Management\", \"Qualitative Methoden\", \"Qualitative Methods\", \"International Economics\", \"European Governance\", \"Regieren in Europa\", \"International Relations\"\\\r\n",
        "           \"Macroeconomics\", \"Makroökonomik\", \"International Law\", \"Accounting, Controlling, Auditing\"]"
      ],
      "execution_count": null,
      "outputs": []
    },
    {
      "cell_type": "code",
      "metadata": {
        "id": "jDIhaL4ofLCi"
      },
      "source": [
        "### Lists for the Economics Students: https://universitaetstgallen.sharepoint.com/sites/BachelorDE/SitePages/VWL-Ordnung%2019.aspx\r\n",
        "bvwl_de = [\"Data Handling: Cleaning, Import and Visualization\", \"Data Analytics: Statistik\", \"Makroökonomik 2 \", \"Mikroökonomik 2\", \"Accounting, Controlling, Auditing\",\\\r\n",
        "            \"Empirische Wirtschaftsforschung\", \"Makroökonomik 3\", \"Mikroökonomik 3\"]\r\n",
        "\r\n",
        "bvwl_en = [\"Data Handling: Cleaning, Import and Visualization\", \"Data Analytics: Statistics\", \"Macroeconomics 2 \", \"Microeconomics 2\", \"Accounting, Controlling, Auditing\",\\\r\n",
        "            \"Empirical Economic Research\", \"Macroeconomics 3\", \"Microeconomics 3\"]"
      ],
      "execution_count": null,
      "outputs": []
    },
    {
      "cell_type": "code",
      "metadata": {
        "id": "J9K3SYikfLFL"
      },
      "source": [
        "###List for the Law & Economics Students: https://universitaetstgallen.sharepoint.com/sites/BachelorDE/SitePages/BLE-Austausch.aspx\r\n",
        "ble_de = [\"Internationales Recht\", \"Juristische Wahlfächer\", \"Integrationsleistungen\", \"Law & Economics Methode\", \"Law & Economics Methode 2\"]"
      ],
      "execution_count": null,
      "outputs": []
    },
    {
      "cell_type": "code",
      "metadata": {
        "id": "OcFl6M4GfLHu"
      },
      "source": [
        "### List for the Law Students: https://universitaetstgallen.sharepoint.com/sites/BachelorDE/SitePages/BLaw-Austausch.aspx\r\n",
        "blaw = [\"Privatrecht-Wirtschaftsrecht\", \"Verwaltungsrecht IIÖffentliches Wirtschaftsrecht\", \"Öffentliches Recht\", \"Strafrecht BT\", \"Internat. Privatrecht \",\\\r\n",
        "        \"Völkerrecht\", \"Europarecht\", \"Rechtsgeschichte\"]"
      ],
      "execution_count": null,
      "outputs": []
    },
    {
      "cell_type": "code",
      "metadata": {
        "id": "I9AR4NiN-7R4",
        "colab": {
          "base_uri": "https://localhost:8080/"
        },
        "outputId": "23544f1d-5464-4dcd-c64c-b480990685d1"
      },
      "source": [
        "####Patchwork: Get the string into a list\r\n",
        "#list1 = list(text.split(\" \")) \r\n",
        "#print(list1)"
      ],
      "execution_count": null,
      "outputs": [
        {
          "output_type": "stream",
          "text": [
            "['Erfahrungsbericht', 'Universidad', 'de', 'San', 'Andrés', '', 'Herbstsemester', '2017', '(FS', 'in', 'Argentinien)', '07', 'August', '15', 'Dezember', '', 'Bachelor', 'BWL', '', 'Die', 'Universidad', 'de', 'San', 'Andrés', 'befindet', 'sich', 'im', 'Norden', 'von', 'Buenos', 'Aires', '', '(', 'Bezirk', 'Victoria)', '', 'ca', '1', '-', '1', '5', 'Stunden', 'außerhalb', 'vom', 'Stadtzentrum', '(Recoleta/Palermo)', '', 'Sie', 'ist', 'in', 'dieser', 'Zeit', 'sehr', 'einfach', 'mit', 'dem', 'Zug', '(Mitre)', 'von', 'Retiro', 'oder', 'Belgrano', 'C', 'aus', 'zu', 'erreichen', '', 'Daneben', 'gibt', 'es', 'einen', 'Universitäts', '-', 'Bus', 'der', 'jeden', 'Tag', 'um', '7', '30', 'von', 'Retiro', 'losfährt', 'und', '140', 'Pesos', '(6', '5', '', 'kostet', '', 'Die', 'Universität', 'überzeugt', 'einerseits', 'mit', 'ihrem', 'Erscheinen', 'da', 'sie', '', 'ein', 'schönes', 'grünes', 'Fleckchen', 'und', 'ein', 'starker', 'Kontrast', 'im', 'sonst', 'lauten', 'und', 'verkehrsreichen', 'Buenos', 'Aires', 'ist', '', 'Andererseits', 'überzeugt', 'sie', 'mit', 'ihrem', 'hohen', 'akademischen', 'Niveau', '', 'das', 'in', 'ganz', 'Buenos', '', 'Aires', 'bekannt', 'ist', '', 'und', 'auch', 'bei', 'Internships', '(pasantías)', '', 'hilft', 'falls', 'sich', 'jemand', 'entscheidet', 'noch', '2', 'Monate', 'länger', 'zu', 'bleiben', '', '', '', '', '', 'Das', 'erste', 'Bild', 'zeigt', 'das', 'Stadtzentrum', 'mit', 'Palermo', 'und', 'Recoleta', '', 'und', 'd', 'en', 'Standort', 'der', 'Universidad', 'de', 'San', 'Andrés', '', 'das', 'zweite', 'Bild', 'den', 'Plaza', 'de', 'Mayo', 'mit', 'de', 'r', '', 'Casa', 'Rosada', 'und', 'das', 'dritte', 'Bild', 'den', 'schönen', 'grünen', 'Campus', 'der', 'Universidad', 'de', 'San', 'Andrés', '', 'Neben', 'dem', 'Orientierungsprogramm', 'welches', 'am', 'Donnerstag', 'und', 'Freitag', 'vor', 'der', 'ersten', 'Uni', '-', 'Woche', 'stattfindet', 'und', 'verpflichtend', 'ist', 'gibt', 'es', 'ein', 'Buddy', '-', 'System', '', 'werden', 'den', 'Studenten', 'zugeteilt', '', 'Meiner', 'Meinung', 'nach', 'bringt', 'das', 'Programm', 'aus', '', 'ak', 'ademischer', 'Sicht', 'nichts', 'da', 'es', 'sehr', 'einfach', 'ist', 'sich', 'an', 'der', 'Univeristät', 'zurechtzufinden', '', 'A', 'ber', 'es', 'ist', 'eine', 'tolle', 'Möglichkeit', 'neue', 'Leute', '', 'kenne', 'n', 'zulernen', 'und', 'schnell', 'Freunde', 'zu', 'finden', '', 'Viel', 'interessanter', 'sind', 'die', 'Events', 'und', 'Möglichkeiten', 'zur', 'Besichtigung', 'der', 'Stadt', 'die', 'die', 'Universität', 'und', 'das', 'Buddy', '-', 'System', 'bieten', '', 'Fast', 'jedes', 'Woche', 'nende', 'findet', 'ein', 'Event', 'statt', 'wie', 'beispielsweise', 'die', 'Besichtigung', 'eines', 'Museums', 'eines', 'Parks', 'oder', 'einer', 'Messe', 'Es', 'ist', 'meiner', 'Meinung', 'nach', 'sehr', 'lohnenswert', 'an', 'solchen', 'Events', 'teilzunehme', 'n', 'Akademisches', '', 'Wie', 'bereits', 'beschrieben', 'ist', 'das', 'akademische', 'Niveau', '', 'für', 'Argentinien', '', 'sehr', 'gut', '', 'jedoch', 'nicht', 'vergleichbar', 'mit', 'der', 'HSG', '', 'Für', 'mein', 'Empfinden', 'gibt', 'es', 'zu', 'wenig', 'Credits', 'für', 'die', 'Kurse', 'da', 'diese', 'entweder', '64', 'oder', '96', 'Gesamtstunden', 'aufweisen', 'Meiner', 'Meinung', 'nach', 'stimmt', 'das', 'System', 'da', 'nicht', 'überein', 'da', 'ich', 'für', '4', 'Kurse', 'was', 'einem', 'vollen', 'Semester', 'für', 'einen', 'Studenten', 'an', 'der', 'UdeSA', 'entspricht', 'lediglich', '22', 'ECTS', 'bekomme', '', 'Meine', 'Kurse', 'waren:', '', 'Política', 'y', 'Administración', 'Financiera', '(', 'Finance', 'HSG', '7', 'ECTS)', '', 'Diesen', 'Kurs', '', 'gibt', 'es', 'in', '2', 'Ausführungen', 'Santiago', 'Barraza', 'war', 'mein', 'Dozent', 'und', 'ist', 'definitiv', 'die', 'bessere', 'Wahl', 'da', 'er', 'sich', 'mehr', 'um', 'seine', 'Studenten', 'kümmert', '', 'Der', 'Kurs', 'ist', 'bei', 'ihm', 'zwar', 'inhaltlich', 'nicht', 'so', 'anspruchsvoll', 'wie', 'sein', 'Gegenüber', 'aber', 'dennoch', 'lernt', 'man', 'meiner', 'Mein', 'ung', 'nach', 'bei', 'ihm', 'mehr', '', 'da', 'er', 'auch', 'auf', 'Programmierung', 'und', 'sehr', 'gute', 'Excel', '-', 'Kenntnisse', 'Wert', 'legt', '', 'Excel', 'und', 'Stata', '', 'als', 'Beispiel', 'für', 'eine', 'Pr', 'ogrammier', 'sprache', 'sind', 'vor', 'allem', 'in', 'Finance', 'sehr', 'wichtige', 'Skills', 'die', 'für', 'Bewerbungen', 'und', 'vor', 'allem', 'das', 'Berufsleben', 'hilfreich', 'sein', 'können', 'Estrategia', 'de', 'Empresas', '(Strategisches', 'Management', 'HSG', '5', 'ECTS', 'momentan)', '', 'Dieser', 'Kurs', 'wird', 'von', 'Diego', 'Finchelstein', 'unterrichtet', '', 'Ein', 'ziemlich', 'gelassener', '', 'Typ', 'auch', 'wenn', 'er', 'auf', 'den', 'ersten', 'Blick', 'nicht', 'so', 'sondern', 'sehr', 'streng', 'wirkt', '', 'Die', 'Benotung', 'ist', 'fair', 'und', 'nachvollziehbar', '', 'es', 'gibt', 'aber', 'Gru', 'ppenarbeiten', 'die', 'an', 'dieser', 'Universität', 'oft', 'nicht', 'so', 'toll', 'benotet', 'werden', '', 'Dies', 'ist', 'aber', 'teilweise', 'der', 'Arbeitsmoral', 'der', 'relaxten', 'Südamerikaner', 'z', 'uzuschreiben', '', 'Aus', 'diesem', 'Grund', 'sollte', 'man', 'sich', 'überlegen', '', 'ob', 'man', 'K', 'urse', 'mit', 'Gruppenarbeiten', 'wählt', '', 'Meines', 'Eindrucks', 'nach', 'ist', 'dieser', 'Kurs', 'aber', 'der', 'beliebteste', 'u', 'nter', 'den', 'Austauschstudenten', 'da', 'ca', '15', 'weitere', 'diesen', 'Kurs', 'gewählt', 'haben', '', 'Teoría', 'y', 'Práctica', 'del', 'desarollo', 'de', 'proyectos', 'culturales', '(', 'Reko', '', 'HSG', '5', 'ECTS)', '', 'Dieser', 'Kurs', 'war', 'am', 'Anfang', 'ein', 'unvermeid', 'bares', '', 'Übel', '', 'für', 'mich', 'und', 'auch', 'sehr', 'langweilig', '', 'Als', 'ich', 'aber', 'auf', 'das', 'erste', 'Examen', 'gelernt', 'habe', 'habe', 'ich', 'zum', 'ersten', 'Mal', 'den', 'Inhalt', 'erarbeitet', 'und', 'durfte', 'herausfinden', 'dass', 'die', 'Dinge', 'eigentlich', 'sehr', 'spannend', 'waren', '', 'Es', 'ging', 'hauptsächlich', 'um', 'die', 'Geschichte', 'von', 'Buenos', 'Aires', 'und', 'deren', 'kulturelle', 'Entwicklung', 'und', 'wie', 'diese', 'Kultur', 'heutzutage', 'in', 'Projekten', 'konserviert', 'wird', 'So', 'ist', 'zum', 'Beispiel', 'der', 'Parque', 'de', 'la', 'Memoria', 'auf', 'der', 'den', 'Desaparecidos', '', 'gewidmet', 'Die', '', 'dort', 'zu', 'bestaunen', 'd', 'en', 'Werke', '', 'sind', 'spiegeln', 'die', 'Verbrechen', 'des', '20', 'Jahrhunderts', 'wirklich', 'atemberaubend', 'wider', '', 'Nachdem', 'wir', '', 'die', 'Theorie', 'n', '', 'gelernt', 'habe', 'n', '', 'habe', 'n', 'wir', 'dann', 'im', 'Kurs', 'verschiedene', 'Werke', 'b', 'esichtigt', '', 'Historia', 'de', 'las', 'relaciones', 'internacionales', '(', 'Reko', '', 'HSG', '5', 'ECTS)', '', 'D', 'iese', 'Vorlesung', 'en', 'sind', '', 'relativ', 'langweilig', '', 'D', 'er', 'Dozent', 'hat', 'aber', 'nicht', 'wirklich', 'auf', 'Anwesenheit', 'gesetzt', 'sie', 'aber', 'dennoch', 'kontrolliert', '', 'Ganz', 'im', 'Gegensatz', 'zur', 'Vorlesung', 'ist', 'der', 'Inhalt', 'aber', 'äußerst', 'spannend', '', 'Man', 'vertieft', 'die', 'Welt', 'g', 'eschichte', 'der', 'letzten', 'drei', '-', '', 'bis', 'vier', 'hundert', 'Jahre', 'auf', 'dem', '', 'Hintergrund', 'der', 'internationalen', 'Beziehungen', '', 'Die', 'Prüfungen', 'sind', 'sehr', 'a', 'rbeitsa', 'ufwändig', '', 'da', '2x', '15', 'Seiten', 'zu', 'jeweils', 'vier', 'komplett', 'verschiedenen', 'und', 'sehr', 'detaillierten', 'Fragen', '', 'geschrieben', 'werden', 'müssen', 'Ob', 'Englisch', 'hier', 'möglich', 'wäre', 'weiß', '', 'ich', 'nicht', '', 'Ich', 'habe', 'in', 'diesem', 'Kurs', 'aber', 'mit', 'Sicherheit', 'am', 'meisten', 'gelernt', 'und', 'mein', 'geschriebenes', 'Spanisch', 'sehr', 'verbessert', 'Alles', 'in', 'Allem', 'lässt', 'sich', 'sagen', 'dass', 'die', 'Kurse', 'teilweise', 'sehr', 'aufwendig', '', 'sind', '', 'aber', 'man', 'definitiv', 'sehr', 'viel', '', 'lernen', 'kann', '', 'Es', 'empfiehlt', 'sich', 'wahrscheinlich', 'nicht', 'jeden', 'Tag', 'an', 'der', 'Universität', 'zu', 'sein', 'sprich', 'seine', 'Kurse', 'auf', '3', 'oder', '4', 'Tage', 'zu', 'komprimieren', '', 'da', 'strenge', 'Anwesenheitspflicht', 'herrscht', 'Weiteres', '', 'Die', 'Verantwortlichen', 'der', 'Universität', 'ha', 'ben', '', 'sich', 'bereits', 'sehr', 'früh', 'mit', 'mir', 'in', 'K', 'ontakt', 'gesetzt', '', 'Sie', 'verlangen', 'ein', 's', 'pezielles', 'Bewerbungsverfahren', 'welches', 'unter', 'anderem', 'ein', 'zwei', '-', 'Seitiges', 'Bewerbungsschreiben', 'beinhaltet', '', 'um', 'das', 'Spanisch', '-', 'Niveau', 'zu', 'überprüfen', '', 'Ein', 'B2', '-', 'Niveau', 'wird', 'vorausgesetzt', 'dennoch', 'gab', 'es', 'aber', 'einige', 'die', 'nicht', 'wirklich', 'gut', 'spanisch', 'sprachen', 'und', 'ihr', 'Zertifikat', 'wahrscheinlich', 'eher', 'aus', 'dem', '', 'Internet', 'haben', '', 'Man', 'sollte', 'sich', 'deshalb', 'keine', 'Sorge', 'machen', 'auch', 'wenn', 'das', 'Spanisch', 'noch', 'nicht', 'so', 'gut', 'ist', '', 'Was', 'dafür', 'sehr', 'gemütlich', 'ist', 'ist', 'die', 'Einreise', 'Man', 'reist', 'einfach', 'als', 'Tourist', 'ein', 'und', 'innerhalb', 'des', '1', 'Monats', 'erhält', 'man', 'dann', 'mit', 'Hilfe', 'der', 'Verantwortlichen', 'für', 'Austauschstudenten', 'das', 'Studentenv', 'isum', 'Ich', 'habe', 'den', 'ersten', 'Monat', 'b', 'ei', 'einer', 'Host', '-', 'Family', 'verbrac', 'ht', '', 'was', 'mir', 'sehr', 'gut', 'gefiel', 'da', 'es', 'eine', 'wohlhabendere', 'Familie', 'im', 'schönen', 'Recoleta', 'war', '', 'Die', 'Familie', 'bzw', 'das', 'Zimmer', 'werden', 'von', 'der', 'Universität', 'ausgewählt', 'und', 'davor', 'inspiziert', '', 'Das', 'tägliche', 'Abendessen', 'ist', 'hier', 'übrigens', 'inkludiert', '', 'Der', 'Preis', 'ist', '1000', 'USD', 'wobei', 'die', 'Familie', 'jedoch', 'nur', 'ca', '500', 'USD', 'erhält', '', 'Nach', 'einem', 'Monat', 'w', 'ar', 'es', 'für', 'mich', 'aber', 'auch', 'genug', 'und', 'ich', 'bin', 'nach', 'Palermo', 'gezogen', '', 'Dort', 'konnte', 'ich', 'für', 'einen', 'üblichen', 'Schweizer', 'Preis', 'eine', 'schöne', 'Penthouse', '-', 'Einzelwohnung', 'im', '10', 'Stock', 'ergattern', 'wo', 'ich', 'dann', 'bis', 'zum', 'Ende', 'meines', 'Aufenthalts', 'geblieben', 'bin', '', 'Palermo', 'ist', 'definitiv', 'die', 'bessere', 'Wahl', '', 'da', 'die', 'Distanz', 'zur', 'Uni', 'gleich', 'wie', 'in', 'Recoleta', 'ist', 'man', 'aber', 'direkt', 'im', 'Party', '-', 'Geschehen', 'ist', '', 'Auch', 'On', '-', 'Campus', '-', 'Housing', 'ist', 'möglich', 'aber', 'nicht', 'empfehle', 'nswert', 'da', 'man', 'sich', 'doch', 'mehr', 'als', 'eine', 'Stunde', 'vom', 'Stadt', '-', 'Zentrum', 'entfernt', 'befindet', 'Mein', 'monatliches', 'Budget', 'musste', 'ich', 'von', 'der', 'Schweiz', 'zu', 'Buenos', 'Aires', 'noch', 'einmal', 'anheben', '', 'was', 'hauptsächlich', 'an', 'meinen', 'vielen', 'Reisen', 'lag', '', 'Die', 'Stadt', 'selber', 'ist', 'für', 'lokale', 'Marke', 'n', 'so', 'teuer', 'wie', 'Deutschland', 'oder', 'Österreich', '', 'für', 'importierte', 'Marken', 'jedoch', 'teurer', 'als', 'die', 'Schweiz', '', 'Man', 'gewöhnt', 'sich', 'also', 'besser', 'daran', 'einheimische', 'Marken', 'zu', 'kaufen', '', 'Auch', 'das', 'Mensa', '-', 'Essen', 'beispielsweise', 'befindet', 'sich', 'auf', 'HSG', '-', 'Niveau', '', 'Die', 'San', 'Andrés', 'ist', 'halt', 'doch', 'Argentiniens', 'teuerste', 'P', 'rivatuni', '', '(wahrscheinlich', 'auch', '', 'in', 'Lateina', 'merika', 'unter', 'den', 'Top', '3)', '', 'was', 'man', 'in', 'vielen', 'Bereichen', 'merkt', '', 'Ihr', 'werdet', 'es', 'sehen', '', 'Zusammenfassung', '', 'M', 'ein', 'Auslandssemester', '', 'war', '', 'ein', 'wunderschönes', 'Erlebnis', '', 'Buenos', 'Aires', 'ist', 'meiner', 'Meinung', 'nach', 'die', 'schönste', 'Metropole', '', 'Südamerikas', '', 'was', 'wahrscheinlich', 'auch', 'daran', 'liegt', 'dass', 'sie', 'europäischer', 'ist', 'als', 'alle', 'anderen', 'Städte', 'dort', '', 'Sie', 'überzeugt', 'mit', 'ihrer', 'Kultur', 'mit', 'ihrem', 'Social', '-', 'Life', '', 'und', 'ihren', 'Möglichkeiten', 'in', 'jeglicher', '', 'Hinsicht', '', 'Ich', 'kann', 'einen', 'Austausch', 'hier', 'nur', 'weiterempfehlen', '', '']\n"
          ],
          "name": "stdout"
        }
      ]
    },
    {
      "cell_type": "code",
      "metadata": {
        "id": "eQTW82FZ-82L"
      },
      "source": [
        "###Part 3 Keyword Search"
      ],
      "execution_count": null,
      "outputs": []
    },
    {
      "cell_type": "code",
      "metadata": {
        "id": "yFKFqoP5QY79"
      },
      "source": [
        "#####Idea Start "
      ],
      "execution_count": null,
      "outputs": []
    },
    {
      "cell_type": "code",
      "metadata": {
        "id": "i-IOhThvOUfT"
      },
      "source": [
        "def search_string_for_keyword(text, keyword):\r\n",
        "  if keyword in text:\r\n",
        "    return True\r\n",
        "  else: \r\n",
        "    return False\r\n",
        "\r\n"
      ],
      "execution_count": null,
      "outputs": []
    },
    {
      "cell_type": "code",
      "metadata": {
        "id": "Wuu7_doGPL3o"
      },
      "source": [
        "text = text.lower()\r\n",
        "\r\n",
        "catalogue = bbwl_de\r\n"
      ],
      "execution_count": null,
      "outputs": []
    },
    {
      "cell_type": "code",
      "metadata": {
        "colab": {
          "base_uri": "https://localhost:8080/"
        },
        "id": "vSKvsBqKTMHl",
        "outputId": "60831279-6483-44d3-e280-e5525f77d091"
      },
      "source": [
        "search_string_for_keyword(text, \"strategisches management\")"
      ],
      "execution_count": null,
      "outputs": [
        {
          "output_type": "execute_result",
          "data": {
            "text/plain": [
              "True"
            ]
          },
          "metadata": {
            "tags": []
          },
          "execution_count": 62
        }
      ]
    },
    {
      "cell_type": "code",
      "metadata": {
        "colab": {
          "base_uri": "https://localhost:8080/"
        },
        "id": "_ZDnhcfBUCWZ",
        "outputId": "b5d8a42b-a596-4fba-bf9f-d569c8c5059b"
      },
      "source": [
        "for item in general_de:\r\n",
        "  if search_string_for_keyword(text, item) == True:\r\n",
        "    print(item)\r\n",
        "\r\n"
      ],
      "execution_count": null,
      "outputs": [
        {
          "output_type": "stream",
          "text": [
            "sprachen\n",
            "skills\n",
            "reko\n"
          ],
          "name": "stdout"
        }
      ]
    },
    {
      "cell_type": "code",
      "metadata": {
        "colab": {
          "base_uri": "https://localhost:8080/"
        },
        "id": "JBAPRMdnPsUM",
        "outputId": "4c1f5378-7e8f-452a-db9f-8d9a1f9b3617"
      },
      "source": [
        "for course in catalogue:\r\n",
        "  if search_string_for_keyword(text, course) == True:\r\n",
        "    print(course)\r\n"
      ],
      "execution_count": null,
      "outputs": [
        {
          "output_type": "stream",
          "text": [
            "strategisches management\n",
            "finance\n"
          ],
          "name": "stdout"
        }
      ]
    },
    {
      "cell_type": "code",
      "metadata": {
        "id": "hNaUilVFQWi5"
      },
      "source": [
        "####IDEA OVER"
      ],
      "execution_count": null,
      "outputs": []
    },
    {
      "cell_type": "markdown",
      "metadata": {
        "id": "sxUqjMWuSaK5"
      },
      "source": [
        ""
      ]
    },
    {
      "cell_type": "code",
      "metadata": {
        "id": "EHMmp69a-84y"
      },
      "source": [
        "def open_file(file_name):\r\n",
        "  # If file is a .txt\r\n",
        "  file_content = open(file_name, \"r\") \r\n",
        "  return file_content\r\n",
        "  "
      ],
      "execution_count": null,
      "outputs": []
    },
    {
      "cell_type": "code",
      "metadata": {
        "id": "Whdt7IZGdY4D",
        "colab": {
          "base_uri": "https://localhost:8080/"
        },
        "outputId": "657f97e6-9a66-45a6-9236-878fa195aa17"
      },
      "source": [
        "def search_keyword(file_content, keyword):\r\n",
        "  # if file_content is a string, then the single words must be separated.\r\n",
        "  # if file_content is a list of words, we can save the position of the words in the list.\r\n",
        "  \r\n",
        "  list_position = []        # Create an empty list of positions for a keyword.\r\n",
        "\r\n",
        "  for a in range(0, len(file_content)): # We iterate over all indexes of the list.\r\n",
        "      b = file_content[a]               # We save under the name b the content (string) at the index (position) a\r\n",
        "      if keyword == b:                  # If we find an element which is equal to the keyword please do following:\r\n",
        "        list_position.append(a)         # We store the position (index) of the keyword in a list which gathers all the positions\r\n",
        "      else:\r\n",
        "          return None\r\n",
        "  quantity_positions = len(list_position) # We define, using the amount of indexed positions, how many times the keyword has been found.\r\n",
        "  print(\"The keyword you are searching for, is to be found at position(s)\", list_position, \"in this file.\" ) # Print the information for the user\r\n",
        "  print(\"The keyword you are searching for, has been found\", quantity_positions, \"times.\")\r\n",
        "  return list_position                    # Return the values that can be used by the next function\r\n",
        "  return quantity_positions\r\n",
        "\r\n",
        "\r\n",
        "\r\n",
        "######################## TEST ########################\r\n",
        "#list = [\"apple\", \"orange\", \"pear\",\"apple\", \"orange\", \"pear\",\"apple\", \"orange\", \"pear\",\"apple\", \"orange\", \"pear\",\"apple\", \"orange\", \"pear\",\"apple\", \"orange\", \"pear\",]\r\n",
        "#keyword = \"orange\"\r\n",
        "\r\n",
        "search_keyword(list1, \"Management\") # We test the function with the 2 arguments"
      ],
      "execution_count": null,
      "outputs": [
        {
          "output_type": "stream",
          "text": [
            "The keyword you are searching for, is to be found at position(s) [517] in this file.\n",
            "The keyword you are searching for, has been found 1 times.\n"
          ],
          "name": "stdout"
        },
        {
          "output_type": "execute_result",
          "data": {
            "text/plain": [
              "[517]"
            ]
          },
          "metadata": {
            "tags": []
          },
          "execution_count": 23
        }
      ]
    },
    {
      "cell_type": "code",
      "metadata": {
        "id": "km6P_ttcdY6n"
      },
      "source": [
        ""
      ],
      "execution_count": null,
      "outputs": []
    }
  ]
}